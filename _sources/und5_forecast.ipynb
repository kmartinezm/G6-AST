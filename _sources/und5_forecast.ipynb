{
 "cells": [
  {
   "cell_type": "markdown",
   "metadata": {},
   "source": [
    "# Unidad 5: Modelos estacionarios en series de tiempo\n",
    "\n",
    "## 5.1 Introducción\n",
    "\n",
    "Aplicaremos la metodología Box-Jenkins para identificar modelos autoregresivos integrados de media móvil (ARIMA) para analizar y predecir valores futuros de series de tiempo.\n",
    "\n",
    "## 5.2 Objetivo\n",
    "\n",
    "Esquematizar los modelos convencionales de series de tiempo a través de la metodología Box-Jenkins para encontrar patrones que nos permitan predecir futuras observaciones.\n",
    "\n",
    "## 5.3 Acción\n",
    "\n",
    "Se implementará la metodología de Box-Jenkins para la construcción de un modelo.\n",
    "\n",
    "### 5.3.1 Preparación de los datos\n",
    "\n",
    "Previo al análisis detallado, es imperativo comprender el proceso de preparación de datos temporales para garantizar su idoneidad y coherencia en el estudio.\n",
    "cia en el estudio."
   ]
  },
  {
   "cell_type": "code",
   "execution_count": 1,
   "metadata": {},
   "outputs": [],
   "source": [
    "# importando librerias\n",
    "\n",
    "# librerias para la transformación de datos\n",
    "import pandas as pd\n",
    "import numpy as np\n",
    "from datetime import datetime\n",
    "from statsmodels.tsa.seasonal import seasonal_decompose\n",
    "from statsmodels.tsa.stattools import adfuller\n",
    "import statsmodels.api as sm\n",
    "from statsmodels.tsa.holtwinters import ExponentialSmoothing\n",
    "from statsmodels.graphics.tsaplots import plot_acf, plot_pacf\n",
    "from statsmodels.tsa.arima.model import ARIMA\n",
    "\n",
    "# libreria para visualización de datos\n",
    "import matplotlib.pyplot as plt\n",
    "import seaborn as sns"
   ]
  },
  {
   "cell_type": "markdown",
   "metadata": {},
   "source": [
    "#### 5.3.1.1 Recopilación de los datos\n",
    "\n",
    "En este bloque, se carga el conjunto de datos desde un archivo CSV utilizando la biblioteca pandas. Se especifica el delimitador de campos y se visualizan las primeras filas del dataframe para verificar que los datos se han cargado correctamente."
   ]
  },
  {
   "cell_type": "code",
   "execution_count": 2,
   "metadata": {},
   "outputs": [
    {
     "data": {
      "text/html": [
       "<div>\n",
       "<style scoped>\n",
       "    .dataframe tbody tr th:only-of-type {\n",
       "        vertical-align: middle;\n",
       "    }\n",
       "\n",
       "    .dataframe tbody tr th {\n",
       "        vertical-align: top;\n",
       "    }\n",
       "\n",
       "    .dataframe thead th {\n",
       "        text-align: right;\n",
       "    }\n",
       "</style>\n",
       "<table border=\"1\" class=\"dataframe\">\n",
       "  <thead>\n",
       "    <tr style=\"text-align: right;\">\n",
       "      <th></th>\n",
       "      <th>fechaoperacion</th>\n",
       "      <th>codigo</th>\n",
       "      <th>contenido</th>\n",
       "      <th>hora1</th>\n",
       "      <th>hora2</th>\n",
       "      <th>hora3</th>\n",
       "      <th>hora4</th>\n",
       "      <th>hora5</th>\n",
       "      <th>hora6</th>\n",
       "      <th>hora7</th>\n",
       "      <th>...</th>\n",
       "      <th>hora15</th>\n",
       "      <th>hora16</th>\n",
       "      <th>hora17</th>\n",
       "      <th>hora18</th>\n",
       "      <th>hora19</th>\n",
       "      <th>hora20</th>\n",
       "      <th>hora21</th>\n",
       "      <th>hora22</th>\n",
       "      <th>hora23</th>\n",
       "      <th>hora24</th>\n",
       "    </tr>\n",
       "  </thead>\n",
       "  <tbody>\n",
       "    <tr>\n",
       "      <th>0</th>\n",
       "      <td>1/01/2006</td>\n",
       "      <td>PBNA</td>\n",
       "      <td>PRECIO DE BOLSA NACIONAL ($/KWH)</td>\n",
       "      <td>87.778212</td>\n",
       "      <td>77.778212</td>\n",
       "      <td>77.778212</td>\n",
       "      <td>77.778212</td>\n",
       "      <td>77.778212</td>\n",
       "      <td>77.778212</td>\n",
       "      <td>75.768212</td>\n",
       "      <td>...</td>\n",
       "      <td>75.768212</td>\n",
       "      <td>71.278212</td>\n",
       "      <td>69.067212</td>\n",
       "      <td>76.278212</td>\n",
       "      <td>77.778212</td>\n",
       "      <td>87.778212</td>\n",
       "      <td>87.778212</td>\n",
       "      <td>77.778212</td>\n",
       "      <td>77.778212</td>\n",
       "      <td>77.778212</td>\n",
       "    </tr>\n",
       "    <tr>\n",
       "      <th>1</th>\n",
       "      <td>2/01/2006</td>\n",
       "      <td>PBNA</td>\n",
       "      <td>PRECIO DE BOLSA NACIONAL ($/KWH)</td>\n",
       "      <td>76.278212</td>\n",
       "      <td>76.278212</td>\n",
       "      <td>76.278212</td>\n",
       "      <td>76.278212</td>\n",
       "      <td>76.278212</td>\n",
       "      <td>76.778212</td>\n",
       "      <td>76.778212</td>\n",
       "      <td>...</td>\n",
       "      <td>82.778212</td>\n",
       "      <td>82.778212</td>\n",
       "      <td>82.778212</td>\n",
       "      <td>81.768212</td>\n",
       "      <td>87.778212</td>\n",
       "      <td>87.778212</td>\n",
       "      <td>87.778212</td>\n",
       "      <td>82.778212</td>\n",
       "      <td>76.778212</td>\n",
       "      <td>76.778212</td>\n",
       "    </tr>\n",
       "    <tr>\n",
       "      <th>2</th>\n",
       "      <td>3/01/2006</td>\n",
       "      <td>PBNA</td>\n",
       "      <td>PRECIO DE BOLSA NACIONAL ($/KWH)</td>\n",
       "      <td>77.678212</td>\n",
       "      <td>77.678212</td>\n",
       "      <td>77.678212</td>\n",
       "      <td>77.678212</td>\n",
       "      <td>77.678212</td>\n",
       "      <td>77.678212</td>\n",
       "      <td>77.678212</td>\n",
       "      <td>...</td>\n",
       "      <td>82.778212</td>\n",
       "      <td>82.778212</td>\n",
       "      <td>82.778212</td>\n",
       "      <td>82.778212</td>\n",
       "      <td>87.778212</td>\n",
       "      <td>114.425212</td>\n",
       "      <td>87.778212</td>\n",
       "      <td>82.778212</td>\n",
       "      <td>77.678212</td>\n",
       "      <td>77.678212</td>\n",
       "    </tr>\n",
       "    <tr>\n",
       "      <th>3</th>\n",
       "      <td>4/01/2006</td>\n",
       "      <td>PBNA</td>\n",
       "      <td>PRECIO DE BOLSA NACIONAL ($/KWH)</td>\n",
       "      <td>77.778212</td>\n",
       "      <td>77.778212</td>\n",
       "      <td>77.778212</td>\n",
       "      <td>77.778212</td>\n",
       "      <td>77.778212</td>\n",
       "      <td>77.778212</td>\n",
       "      <td>77.778212</td>\n",
       "      <td>...</td>\n",
       "      <td>77.778212</td>\n",
       "      <td>77.778212</td>\n",
       "      <td>77.778212</td>\n",
       "      <td>85.778212</td>\n",
       "      <td>85.778212</td>\n",
       "      <td>87.778212</td>\n",
       "      <td>85.778212</td>\n",
       "      <td>85.778212</td>\n",
       "      <td>81.768212</td>\n",
       "      <td>77.778212</td>\n",
       "    </tr>\n",
       "    <tr>\n",
       "      <th>4</th>\n",
       "      <td>5/01/2006</td>\n",
       "      <td>PBNA</td>\n",
       "      <td>PRECIO DE BOLSA NACIONAL ($/KWH)</td>\n",
       "      <td>86.778212</td>\n",
       "      <td>86.778212</td>\n",
       "      <td>86.778212</td>\n",
       "      <td>86.778212</td>\n",
       "      <td>86.778212</td>\n",
       "      <td>86.778212</td>\n",
       "      <td>88.278212</td>\n",
       "      <td>...</td>\n",
       "      <td>88.278212</td>\n",
       "      <td>88.278212</td>\n",
       "      <td>88.278212</td>\n",
       "      <td>88.278212</td>\n",
       "      <td>88.278212</td>\n",
       "      <td>91.134212</td>\n",
       "      <td>88.278212</td>\n",
       "      <td>88.278212</td>\n",
       "      <td>86.778212</td>\n",
       "      <td>86.778212</td>\n",
       "    </tr>\n",
       "  </tbody>\n",
       "</table>\n",
       "<p>5 rows × 27 columns</p>\n",
       "</div>"
      ],
      "text/plain": [
       "  fechaoperacion codigo                         contenido      hora1  \\\n",
       "0      1/01/2006   PBNA  PRECIO DE BOLSA NACIONAL ($/KWH)  87.778212   \n",
       "1      2/01/2006   PBNA  PRECIO DE BOLSA NACIONAL ($/KWH)  76.278212   \n",
       "2      3/01/2006   PBNA  PRECIO DE BOLSA NACIONAL ($/KWH)  77.678212   \n",
       "3      4/01/2006   PBNA  PRECIO DE BOLSA NACIONAL ($/KWH)  77.778212   \n",
       "4      5/01/2006   PBNA  PRECIO DE BOLSA NACIONAL ($/KWH)  86.778212   \n",
       "\n",
       "       hora2      hora3      hora4      hora5      hora6      hora7  ...  \\\n",
       "0  77.778212  77.778212  77.778212  77.778212  77.778212  75.768212  ...   \n",
       "1  76.278212  76.278212  76.278212  76.278212  76.778212  76.778212  ...   \n",
       "2  77.678212  77.678212  77.678212  77.678212  77.678212  77.678212  ...   \n",
       "3  77.778212  77.778212  77.778212  77.778212  77.778212  77.778212  ...   \n",
       "4  86.778212  86.778212  86.778212  86.778212  86.778212  88.278212  ...   \n",
       "\n",
       "      hora15     hora16     hora17     hora18     hora19      hora20  \\\n",
       "0  75.768212  71.278212  69.067212  76.278212  77.778212   87.778212   \n",
       "1  82.778212  82.778212  82.778212  81.768212  87.778212   87.778212   \n",
       "2  82.778212  82.778212  82.778212  82.778212  87.778212  114.425212   \n",
       "3  77.778212  77.778212  77.778212  85.778212  85.778212   87.778212   \n",
       "4  88.278212  88.278212  88.278212  88.278212  88.278212   91.134212   \n",
       "\n",
       "      hora21     hora22     hora23     hora24  \n",
       "0  87.778212  77.778212  77.778212  77.778212  \n",
       "1  87.778212  82.778212  76.778212  76.778212  \n",
       "2  87.778212  82.778212  77.678212  77.678212  \n",
       "3  85.778212  85.778212  81.768212  77.778212  \n",
       "4  88.278212  88.278212  86.778212  86.778212  \n",
       "\n",
       "[5 rows x 27 columns]"
      ]
     },
     "execution_count": 2,
     "metadata": {},
     "output_type": "execute_result"
    }
   ],
   "source": [
    "# recopilación de datos\n",
    "df_data = pd.read_csv('./dataset.csv',sep=';')\n",
    "df_data.head()"
   ]
  },
  {
   "cell_type": "markdown",
   "metadata": {},
   "source": [
    "#### 5.3.1.2 Transformación de Datos\n",
    "\n",
    "Este bloque define una función para transformar el dataframe original. Se realiza una copia del dataframe, se convierte la columna de fechas a un formato de fecha adecuado, y se agregan nuevas columnas para el año, mes y día. Luego, se seleccionan y reorganizan las columnas, y finalmente, se pivotea la tabla para facilitar su uso en análisis posteriores."
   ]
  },
  {
   "cell_type": "code",
   "execution_count": 3,
   "metadata": {},
   "outputs": [],
   "source": [
    "def trf_data(df_data):\n",
    "    \n",
    "    # copia del dataframe\n",
    "    df = df_data.copy()\n",
    "    \n",
    "    # transformación de fechas\n",
    "    df['fechaoperacion'] = pd.to_datetime(df['fechaoperacion'], format='%d/%m/%Y')\n",
    "    \n",
    "    # agregando las columnas de fechas\n",
    "    df['ano'] = df.apply(lambda x: x['fechaoperacion'].year ,axis=1)\n",
    "    df['mes'] = df.apply(lambda x: x['fechaoperacion'].month ,axis=1)\n",
    "    df['dia'] = df.apply(lambda x: x['fechaoperacion'].day ,axis=1)\n",
    "    \n",
    "    # selección de columnas\n",
    "    df = df[['fechaoperacion','ano','mes','dia', 'hora1', 'hora2', 'hora3','hora4', 'hora5', 'hora6', 'hora7', 'hora8', 'hora9', 'hora10','hora11', 'hora12', 'hora13', 'hora14', 'hora15', 'hora16', 'hora17','hora18', 'hora19', 'hora20', 'hora21', 'hora22', 'hora23', 'hora24']]\n",
    "    \n",
    "    # Convertir la tabla\n",
    "    list_id = [i.lower() for i in df.columns if not 'hora' in i]\n",
    "    list_value = [i.lower() for i in df.columns if 'hora' in i]\n",
    "    \n",
    "    # pivotear la tabla\n",
    "    df = df.melt(id_vars=list_id,value_vars=list_value,var_name='periodo',value_name='valor')\n",
    "    \n",
    "    return df"
   ]
  },
  {
   "cell_type": "code",
   "execution_count": 4,
   "metadata": {},
   "outputs": [
    {
     "data": {
      "text/html": [
       "<div>\n",
       "<style scoped>\n",
       "    .dataframe tbody tr th:only-of-type {\n",
       "        vertical-align: middle;\n",
       "    }\n",
       "\n",
       "    .dataframe tbody tr th {\n",
       "        vertical-align: top;\n",
       "    }\n",
       "\n",
       "    .dataframe thead th {\n",
       "        text-align: right;\n",
       "    }\n",
       "</style>\n",
       "<table border=\"1\" class=\"dataframe\">\n",
       "  <thead>\n",
       "    <tr style=\"text-align: right;\">\n",
       "      <th></th>\n",
       "      <th>fechaoperacion</th>\n",
       "      <th>ano</th>\n",
       "      <th>mes</th>\n",
       "      <th>dia</th>\n",
       "      <th>periodo</th>\n",
       "      <th>valor</th>\n",
       "    </tr>\n",
       "  </thead>\n",
       "  <tbody>\n",
       "    <tr>\n",
       "      <th>0</th>\n",
       "      <td>2006-01-01</td>\n",
       "      <td>2006</td>\n",
       "      <td>1</td>\n",
       "      <td>1</td>\n",
       "      <td>hora1</td>\n",
       "      <td>87.778212</td>\n",
       "    </tr>\n",
       "    <tr>\n",
       "      <th>1</th>\n",
       "      <td>2006-01-02</td>\n",
       "      <td>2006</td>\n",
       "      <td>1</td>\n",
       "      <td>2</td>\n",
       "      <td>hora1</td>\n",
       "      <td>76.278212</td>\n",
       "    </tr>\n",
       "    <tr>\n",
       "      <th>2</th>\n",
       "      <td>2006-01-03</td>\n",
       "      <td>2006</td>\n",
       "      <td>1</td>\n",
       "      <td>3</td>\n",
       "      <td>hora1</td>\n",
       "      <td>77.678212</td>\n",
       "    </tr>\n",
       "    <tr>\n",
       "      <th>3</th>\n",
       "      <td>2006-01-04</td>\n",
       "      <td>2006</td>\n",
       "      <td>1</td>\n",
       "      <td>4</td>\n",
       "      <td>hora1</td>\n",
       "      <td>77.778212</td>\n",
       "    </tr>\n",
       "    <tr>\n",
       "      <th>4</th>\n",
       "      <td>2006-01-05</td>\n",
       "      <td>2006</td>\n",
       "      <td>1</td>\n",
       "      <td>5</td>\n",
       "      <td>hora1</td>\n",
       "      <td>86.778212</td>\n",
       "    </tr>\n",
       "  </tbody>\n",
       "</table>\n",
       "</div>"
      ],
      "text/plain": [
       "  fechaoperacion   ano  mes  dia periodo      valor\n",
       "0     2006-01-01  2006    1    1   hora1  87.778212\n",
       "1     2006-01-02  2006    1    2   hora1  76.278212\n",
       "2     2006-01-03  2006    1    3   hora1  77.678212\n",
       "3     2006-01-04  2006    1    4   hora1  77.778212\n",
       "4     2006-01-05  2006    1    5   hora1  86.778212"
      ]
     },
     "execution_count": 4,
     "metadata": {},
     "output_type": "execute_result"
    }
   ],
   "source": [
    "# dataset trasnformado\n",
    "df = trf_data(df_data)\n",
    "df.head()"
   ]
  },
  {
   "cell_type": "markdown",
   "metadata": {},
   "source": [
    "#### 5.3.1.3 Remuestreo de la serie temporal\n",
    "\n",
    "En este bloque, se crea una copia del dataframe transformado y se remuestrean los datos a valores mensuales. Se agrupan los datos por fecha y se calcula la media mensual. Luego, se seleccionan las columnas relevantes y se visualiza el nuevo dataframe remuestreado."
   ]
  },
  {
   "cell_type": "code",
   "execution_count": 5,
   "metadata": {},
   "outputs": [
    {
     "data": {
      "text/html": [
       "<div>\n",
       "<style scoped>\n",
       "    .dataframe tbody tr th:only-of-type {\n",
       "        vertical-align: middle;\n",
       "    }\n",
       "\n",
       "    .dataframe tbody tr th {\n",
       "        vertical-align: top;\n",
       "    }\n",
       "\n",
       "    .dataframe thead th {\n",
       "        text-align: right;\n",
       "    }\n",
       "</style>\n",
       "<table border=\"1\" class=\"dataframe\">\n",
       "  <thead>\n",
       "    <tr style=\"text-align: right;\">\n",
       "      <th></th>\n",
       "      <th>fechaoperacion</th>\n",
       "      <th>valor</th>\n",
       "    </tr>\n",
       "  </thead>\n",
       "  <tbody>\n",
       "    <tr>\n",
       "      <th>0</th>\n",
       "      <td>2006-01-31</td>\n",
       "      <td>79.026486</td>\n",
       "    </tr>\n",
       "    <tr>\n",
       "      <th>1</th>\n",
       "      <td>2006-02-28</td>\n",
       "      <td>75.520919</td>\n",
       "    </tr>\n",
       "    <tr>\n",
       "      <th>2</th>\n",
       "      <td>2006-03-31</td>\n",
       "      <td>65.787447</td>\n",
       "    </tr>\n",
       "    <tr>\n",
       "      <th>3</th>\n",
       "      <td>2006-04-30</td>\n",
       "      <td>54.012347</td>\n",
       "    </tr>\n",
       "    <tr>\n",
       "      <th>4</th>\n",
       "      <td>2006-05-31</td>\n",
       "      <td>53.819582</td>\n",
       "    </tr>\n",
       "  </tbody>\n",
       "</table>\n",
       "</div>"
      ],
      "text/plain": [
       "  fechaoperacion      valor\n",
       "0     2006-01-31  79.026486\n",
       "1     2006-02-28  75.520919\n",
       "2     2006-03-31  65.787447\n",
       "3     2006-04-30  54.012347\n",
       "4     2006-05-31  53.819582"
      ]
     },
     "execution_count": 5,
     "metadata": {},
     "output_type": "execute_result"
    }
   ],
   "source": [
    "# remuestreando la serie de tiempo a valores mensuales\n",
    "\n",
    "# creando una copia del dataframe\n",
    "df_vcm = df.copy()\n",
    "\n",
    "#  remuestreando el dataframe a mensual\n",
    "df_vcm = df_vcm.resample('M',on='fechaoperacion').mean().reset_index()\n",
    "df_vcm = df_vcm[['fechaoperacion','valor']]\n",
    "\n",
    "# mostrando el dataframe transformado\n",
    "df_vcm.head()"
   ]
  },
  {
   "cell_type": "markdown",
   "metadata": {},
   "source": [
    "### 5.3.2 Validación Estacionariedad\n",
    "\n",
    "La primera etapa de este análisis es la validación de estacionariedad de la serie temporal. La estacionariedad es un requisito fundamental para la modelización ARIMA, ya que asegura que las propiedades estadísticas de la serie no cambien con el tiempo. A continuación, se presentan los resultados obtenidos y se visualiza la tendencia de la serie temporal.\n",
    "\n",
    "Para verificar la estacionariedad de la serie, se aplicó la prueba de Dickey-Fuller Aumentada (ADF). Los resultados obtenidos se muestran a continuación:"
   ]
  },
  {
   "cell_type": "code",
   "execution_count": 6,
   "metadata": {},
   "outputs": [
    {
     "name": "stdout",
     "output_type": "stream",
     "text": [
      "El T-Test es:  -4.2831367549258434\n",
      "El p-value es:  0.0004750482118971582\n",
      "Valores criticos:  {'1%': -3.461136478222043, '5%': -2.875078880098608, '10%': -2.5739861168199027}\n"
     ]
    }
   ],
   "source": [
    "# estacionario\n",
    "adf = adfuller(df_vcm['valor'],maxlag=1)\n",
    "print('El T-Test es: ',adf[0])\n",
    "print('El p-value es: ',adf[1])\n",
    "print('Valores criticos: ',adf[4])"
   ]
  },
  {
   "cell_type": "markdown",
   "metadata": {},
   "source": [
    "El valor del T-Test es -4.283, el cual es menor que los valores críticos en todos los niveles de significancia (1%, 5% y 10%). Específicamente:\n",
    "\n",
    "- Nivel de significancia del 1%: El valor crítico es -3.461. Dado que -4.283 < -3.461, rechazamos la hipótesis nula con un nivel de confianza del 99%.\n",
    "- Nivel de significancia del 5%: El valor crítico es -2.875. Dado que -4.283 < -2.875, rechazamos la hipótesis nula con un nivel de confianza del 95%.\n",
    "- Nivel de significancia del 10%: El valor crítico es -2.573. Dado que -4.283 < -2.573, rechazamos la hipótesis nula con un nivel de confianza del 90%.\n",
    "- El p-value obtenido (0.000475) es considerablemente menor que el umbral común de 0.05, lo que refuerza nuestra decisión de rechazar la hipótesis nula de no estacionariedad.\n",
    "\n",
    "La serie temporal del precio de bolsa mensual es estacionaria. Este resultado valida que las propiedades estadísticas de la serie (como la media y la varianza) permanecen constantes en el tiempo, cumpliendo así con uno de los requisitos clave para la modelización ARIMA."
   ]
  },
  {
   "cell_type": "code",
   "execution_count": 7,
   "metadata": {},
   "outputs": [
    {
     "data": {
      "image/png": "[encoded data removed]",
      "text/plain": [
       "<Figure size 864x576 with 1 Axes>"
      ]
     },
     "metadata": {
      "needs_background": "light"
     },
     "output_type": "display_data"
    }
   ],
   "source": [
    "# Graficar la serie de tiempo y su tendencia estimada\n",
    "\n",
    "# creando lienzo\n",
    "plt.figure(figsize=(12, 8))\n",
    "\n",
    "# creando gráfica\n",
    "plt.plot(df_vcm['fechaoperacion'], df_vcm['valor'], label='Valor')\n",
    "\n",
    "\n",
    "lowess = sm.nonparametric.lowess\n",
    "smoothed = lowess(df_vcm['valor'], df_vcm['fechaoperacion'])\n",
    "plt.plot(df_vcm['fechaoperacion'], smoothed[:, 1], label='Tendencia estimada')\n",
    "\n",
    "#\n",
    "plt.xlabel('Fecha')\n",
    "plt.ylabel('Precio de bolsa mensual')\n",
    "plt.legend()\n",
    "plt.show()"
   ]
  },
  {
   "cell_type": "markdown",
   "metadata": {},
   "source": [
    "### 5.3.3 Autocorrelación (ACF) y Autorcorrelación Parcial (PCAF)\n",
    "\n",
    "Después de validar la estacionariedad de la serie temporal del precio de bolsa mensual, el siguiente paso en la metodología de Box-Jenkins es analizar la autocorrelación (ACF) y la autocorrelación parcial (PACF) de la serie. Este análisis nos ayuda a identificar el comportamiento y la estructura de dependencia temporal en los datos, facilitando la selección de los parámetros para los modelos ARIMA.\n",
    "\n",
    "Para calcular y graficar las funciones de autocorrelación (ACF) y autocorrelación parcial (PACF), se utilizó el siguiente código:"
   ]
  },
  {
   "cell_type": "code",
   "execution_count": 8,
   "metadata": {},
   "outputs": [
    {
     "data": {
      "image/png": "[encoded data removed]",
      "text/plain": [
       "<Figure size 864x864 with 2 Axes>"
      ]
     },
     "metadata": {
      "needs_background": "light"
     },
     "output_type": "display_data"
    }
   ],
   "source": [
    "# Graficar ACF y PACF para la serie diferenciada\n",
    "\n",
    "# creando lienzo\n",
    "fig, (ax1, ax2) = plt.subplots(2, 1, figsize=(12, 12))\n",
    "\n",
    "# realizando la autocorrelación\n",
    "plot_acf(df_vcm['valor'].dropna(), lags=40, ax=ax1)\n",
    "\n",
    "# realiznado la autocorrelación parcial\n",
    "plot_pacf(df_vcm['valor'].dropna(), lags=40, ax=ax2)\n",
    "\n",
    "# mostrando gráfico\n",
    "plt.show()"
   ]
  },
  {
   "cell_type": "markdown",
   "metadata": {},
   "source": [
    "- **Autocorrelación (ACF):**\n",
    "El gráfico de la ACF muestra la correlación entre la serie temporal y sus rezagos hasta 40 períodos. La ACF es útil para identificar la presencia de componentes de media móvil (MA).\n",
    "\n",
    "Observamos que las autocorrelaciones son significativas hasta el rezago 6, lo que sugiere que un modelo de media móvil de orden 6 (MA(6)) podría ser adecuado para capturar la dependencia temporal en los datos.\n",
    "\n",
    "- **Autocorrelación Parcial (PACF):**\n",
    "El gráfico de la PACF muestra la correlación parcial entre la serie temporal y sus rezagos, eliminando el efecto de los rezagos intermedios. La PACF es útil para identificar la presencia de componentes autoregresivos (AR).\n",
    "\n",
    "Observamos que las autocorrelaciones parciales son significativas hasta el rezago 4, lo que sugiere que un modelo autoregresivo de orden 4 (AR(4)) podría ser adecuado para capturar la dependencia temporal en los datos.\n",
    "\n",
    "Después de validar la estacionariedad de la serie temporal del precio de bolsa mensual y analizar las funciones de autocorrelación (ACF) y autocorrelación parcial (PACF), se procedió a la búsqueda del mejor modelo ARIMA. Aunque la serie temporal fue determinada como estacionaria, se identificó que presentaba una estacionariedad débil. Por lo tanto, se realizó una diferenciación adicional para mejorar la modelización.\n",
    "\n",
    "Para encontrar el mejor modelo ARIMA, se utilizó la función auto_arima de la biblioteca pmdarima, que selecciona automáticamente el modelo más adecuado basado en criterios de información y pruebas estadísticas. El código utilizado es el siguiente:"
   ]
  },
  {
   "cell_type": "code",
   "execution_count": 9,
   "metadata": {},
   "outputs": [
    {
     "name": "stdout",
     "output_type": "stream",
     "text": [
      "                               SARIMAX Results                                \n",
      "==============================================================================\n",
      "Dep. Variable:                      y   No. Observations:                  216\n",
      "Model:               SARIMAX(4, 1, 3)   Log Likelihood               -1271.589\n",
      "Date:                Sun, 23 Jun 2024   AIC                           2559.179\n",
      "Time:                        20:03:19   BIC                           2586.144\n",
      "Sample:                             0   HQIC                          2570.074\n",
      "                                - 216                                         \n",
      "Covariance Type:                  opg                                         \n",
      "==============================================================================\n",
      "                 coef    std err          z      P>|z|      [0.025      0.975]\n",
      "------------------------------------------------------------------------------\n",
      "ar.L1         -1.3596      0.073    -18.499      0.000      -1.504      -1.216\n",
      "ar.L2         -1.4133      0.110    -12.866      0.000      -1.629      -1.198\n",
      "ar.L3         -0.9801      0.097    -10.062      0.000      -1.171      -0.789\n",
      "ar.L4         -0.5078      0.042    -12.003      0.000      -0.591      -0.425\n",
      "ma.L1          1.2854      0.086     14.867      0.000       1.116       1.455\n",
      "ma.L2          1.0554      0.123      8.600      0.000       0.815       1.296\n",
      "ma.L3          0.4069      0.122      3.333      0.001       0.168       0.646\n",
      "sigma2      7977.5712    437.381     18.239      0.000    7120.321    8834.822\n",
      "===================================================================================\n",
      "Ljung-Box (L1) (Q):                   0.02   Jarque-Bera (JB):              1789.29\n",
      "Prob(Q):                              0.89   Prob(JB):                         0.00\n",
      "Heteroskedasticity (H):              19.45   Skew:                             2.10\n",
      "Prob(H) (two-sided):                  0.00   Kurtosis:                        16.49\n",
      "===================================================================================\n",
      "\n",
      "Warnings:\n",
      "[1] Covariance matrix calculated using the outer product of gradients (complex-step).\n"
     ]
    }
   ],
   "source": [
    "from pmdarima.arima import auto_arima\n",
    "import pandas as pd\n",
    "\n",
    "# Suponiendo que dif_Indice_ts es tu serie temporal diferenciada\n",
    "# Ajustar el modelo ARIMA automáticamente\n",
    "modelo = auto_arima(df_vcm['valor'], seasonal=False, stepwise=True, suppress_warnings=True)\n",
    "\n",
    "# Mostrar el resumen del modelo ajustado\n",
    "print(modelo.summary())"
   ]
  },
  {
   "cell_type": "markdown",
   "metadata": {},
   "source": [
    "- **Modelo SARIMAX(4, 1, 3):** Este modelo indica que el mejor ajuste para los datos se obtiene con un modelo autoregresivo de orden 4 (AR(4)), una diferenciación de orden 1, y una media móvil de orden 3 (MA(3)). La diferenciación de orden 1 se realizó para asegurar una mejor estacionariedad, dado que la serie original presentaba una estacionariedad débil.\n",
    "\n",
    "- **Coeficientes y Significancia:** Los coeficientes de los términos AR y MA son estadísticamente significativos, como lo indica el valor de p (P>|z|) menor a 0.05 para cada coeficiente. Esto sugiere que los términos incluidos en el modelo son relevantes para explicar la variabilidad en los datos.\n",
    "\n",
    "El análisis detallado de la autocorrelación y autocorrelación parcial, seguido de la búsqueda automática del mejor modelo ARIMA, permitió identificar el modelo SARIMAX(4, 1, 3) como el más adecuado para la serie temporal del precio de bolsa mensual. Este modelo tiene en cuenta la estructura temporal y la necesidad de diferenciación para alcanzar una mejor estacionariedad, garantizando una mayor precisión en las predicciones futuras."
   ]
  },
  {
   "cell_type": "markdown",
   "metadata": {},
   "source": [
    "### 5.3.4 Modelo ARIMA\n",
    "\n",
    "Tras validar la estacionariedad de la serie temporal y analizar las funciones de autocorrelación (ACF) y autocorrelación parcial (PACF), se procedió a la modelización utilizando la metodología ARIMA. Se ajustaron y evaluaron dos modelos: SARIMAX(1, 0, 1) y SARIMAX(4, 1, 3). A continuación, se presentan los resultados obtenidos y su interpretación.\n",
    "\n",
    "Para ajustar los modelos, se emplearon los siguientes códigos:"
   ]
  },
  {
   "cell_type": "code",
   "execution_count": 10,
   "metadata": {},
   "outputs": [
    {
     "data": {
      "text/html": [
       "<table class=\"simpletable\">\n",
       "<caption>SARIMAX Results</caption>\n",
       "<tr>\n",
       "  <th>Dep. Variable:</th>         <td>valor</td>      <th>  No. Observations:  </th>    <td>216</td>   \n",
       "</tr>\n",
       "<tr>\n",
       "  <th>Model:</th>            <td>ARIMA(1, 0, 1)</td>  <th>  Log Likelihood     </th> <td>-1296.872</td>\n",
       "</tr>\n",
       "<tr>\n",
       "  <th>Date:</th>            <td>Sun, 23 Jun 2024</td> <th>  AIC                </th> <td>2601.744</td> \n",
       "</tr>\n",
       "<tr>\n",
       "  <th>Time:</th>                <td>20:03:24</td>     <th>  BIC                </th> <td>2615.245</td> \n",
       "</tr>\n",
       "<tr>\n",
       "  <th>Sample:</th>                  <td>0</td>        <th>  HQIC               </th> <td>2607.198</td> \n",
       "</tr>\n",
       "<tr>\n",
       "  <th></th>                      <td> - 216</td>      <th>                     </th>     <td> </td>    \n",
       "</tr>\n",
       "<tr>\n",
       "  <th>Covariance Type:</th>        <td>opg</td>       <th>                     </th>     <td> </td>    \n",
       "</tr>\n",
       "</table>\n",
       "<table class=\"simpletable\">\n",
       "<tr>\n",
       "     <td></td>       <th>coef</th>     <th>std err</th>      <th>z</th>      <th>P>|z|</th>  <th>[0.025</th>    <th>0.975]</th>  \n",
       "</tr>\n",
       "<tr>\n",
       "  <th>const</th>  <td>  197.1948</td> <td>   69.402</td> <td>    2.841</td> <td> 0.004</td> <td>   61.169</td> <td>  333.221</td>\n",
       "</tr>\n",
       "<tr>\n",
       "  <th>ar.L1</th>  <td>    0.8279</td> <td>    0.036</td> <td>   23.247</td> <td> 0.000</td> <td>    0.758</td> <td>    0.898</td>\n",
       "</tr>\n",
       "<tr>\n",
       "  <th>ma.L1</th>  <td>   -0.0153</td> <td>    0.052</td> <td>   -0.296</td> <td> 0.767</td> <td>   -0.116</td> <td>    0.086</td>\n",
       "</tr>\n",
       "<tr>\n",
       "  <th>sigma2</th> <td> 9556.0915</td> <td>  416.420</td> <td>   22.948</td> <td> 0.000</td> <td> 8739.923</td> <td> 1.04e+04</td>\n",
       "</tr>\n",
       "</table>\n",
       "<table class=\"simpletable\">\n",
       "<tr>\n",
       "  <th>Ljung-Box (L1) (Q):</th>     <td>0.00</td>  <th>  Jarque-Bera (JB):  </th> <td>2969.55</td>\n",
       "</tr>\n",
       "<tr>\n",
       "  <th>Prob(Q):</th>                <td>0.95</td>  <th>  Prob(JB):          </th>  <td>0.00</td>  \n",
       "</tr>\n",
       "<tr>\n",
       "  <th>Heteroskedasticity (H):</th> <td>16.51</td> <th>  Skew:              </th>  <td>2.47</td>  \n",
       "</tr>\n",
       "<tr>\n",
       "  <th>Prob(H) (two-sided):</th>    <td>0.00</td>  <th>  Kurtosis:          </th>  <td>20.48</td> \n",
       "</tr>\n",
       "</table><br/><br/>Warnings:<br/>[1] Covariance matrix calculated using the outer product of gradients (complex-step)."
      ],
      "text/plain": [
       "<class 'statsmodels.iolib.summary.Summary'>\n",
       "\"\"\"\n",
       "                               SARIMAX Results                                \n",
       "==============================================================================\n",
       "Dep. Variable:                  valor   No. Observations:                  216\n",
       "Model:                 ARIMA(1, 0, 1)   Log Likelihood               -1296.872\n",
       "Date:                Sun, 23 Jun 2024   AIC                           2601.744\n",
       "Time:                        20:03:24   BIC                           2615.245\n",
       "Sample:                             0   HQIC                          2607.198\n",
       "                                - 216                                         \n",
       "Covariance Type:                  opg                                         \n",
       "==============================================================================\n",
       "                 coef    std err          z      P>|z|      [0.025      0.975]\n",
       "------------------------------------------------------------------------------\n",
       "const        197.1948     69.402      2.841      0.004      61.169     333.221\n",
       "ar.L1          0.8279      0.036     23.247      0.000       0.758       0.898\n",
       "ma.L1         -0.0153      0.052     -0.296      0.767      -0.116       0.086\n",
       "sigma2      9556.0915    416.420     22.948      0.000    8739.923    1.04e+04\n",
       "===================================================================================\n",
       "Ljung-Box (L1) (Q):                   0.00   Jarque-Bera (JB):              2969.55\n",
       "Prob(Q):                              0.95   Prob(JB):                         0.00\n",
       "Heteroskedasticity (H):              16.51   Skew:                             2.47\n",
       "Prob(H) (two-sided):                  0.00   Kurtosis:                        20.48\n",
       "===================================================================================\n",
       "\n",
       "Warnings:\n",
       "[1] Covariance matrix calculated using the outer product of gradients (complex-step).\n",
       "\"\"\""
      ]
     },
     "execution_count": 10,
     "metadata": {},
     "output_type": "execute_result"
    }
   ],
   "source": [
    "# Ajustar un modelo ARIMA(1,1,1) a la serie temporal, usando los parámetros sugeridos por los gráficos ACF y PACF\n",
    "model = ARIMA(df_vcm['valor'], order=(1, 0, 1))\n",
    "model_fit = model.fit()\n",
    "\n",
    "# Mostrar el resumen del modelo ajustado\n",
    "model_fit.summary()"
   ]
  },
  {
   "cell_type": "markdown",
   "metadata": {},
   "source": [
    "- **Coeficientes:** El término AR(1) es significativo (p < 0.05), mientras que el término MA(1) no lo es.\n",
    "\n",
    "- **AIC/BIC:** Los valores de AIC (2601.744) y BIC (2615.245) nos indican la calidad del ajuste del modelo, siendo AIC un indicador crucial para la selección de modelos."
   ]
  },
  {
   "cell_type": "code",
   "execution_count": 11,
   "metadata": {},
   "outputs": [
    {
     "data": {
      "text/html": [
       "<table class=\"simpletable\">\n",
       "<caption>SARIMAX Results</caption>\n",
       "<tr>\n",
       "  <th>Dep. Variable:</th>         <td>valor</td>      <th>  No. Observations:  </th>    <td>216</td>   \n",
       "</tr>\n",
       "<tr>\n",
       "  <th>Model:</th>            <td>ARIMA(4, 1, 3)</td>  <th>  Log Likelihood     </th> <td>-1271.589</td>\n",
       "</tr>\n",
       "<tr>\n",
       "  <th>Date:</th>            <td>Sun, 23 Jun 2024</td> <th>  AIC                </th> <td>2559.179</td> \n",
       "</tr>\n",
       "<tr>\n",
       "  <th>Time:</th>                <td>20:03:27</td>     <th>  BIC                </th> <td>2586.144</td> \n",
       "</tr>\n",
       "<tr>\n",
       "  <th>Sample:</th>                  <td>0</td>        <th>  HQIC               </th> <td>2570.074</td> \n",
       "</tr>\n",
       "<tr>\n",
       "  <th></th>                      <td> - 216</td>      <th>                     </th>     <td> </td>    \n",
       "</tr>\n",
       "<tr>\n",
       "  <th>Covariance Type:</th>        <td>opg</td>       <th>                     </th>     <td> </td>    \n",
       "</tr>\n",
       "</table>\n",
       "<table class=\"simpletable\">\n",
       "<tr>\n",
       "     <td></td>       <th>coef</th>     <th>std err</th>      <th>z</th>      <th>P>|z|</th>  <th>[0.025</th>    <th>0.975]</th>  \n",
       "</tr>\n",
       "<tr>\n",
       "  <th>ar.L1</th>  <td>   -1.3596</td> <td>    0.073</td> <td>  -18.499</td> <td> 0.000</td> <td>   -1.504</td> <td>   -1.216</td>\n",
       "</tr>\n",
       "<tr>\n",
       "  <th>ar.L2</th>  <td>   -1.4133</td> <td>    0.110</td> <td>  -12.866</td> <td> 0.000</td> <td>   -1.629</td> <td>   -1.198</td>\n",
       "</tr>\n",
       "<tr>\n",
       "  <th>ar.L3</th>  <td>   -0.9801</td> <td>    0.097</td> <td>  -10.062</td> <td> 0.000</td> <td>   -1.171</td> <td>   -0.789</td>\n",
       "</tr>\n",
       "<tr>\n",
       "  <th>ar.L4</th>  <td>   -0.5078</td> <td>    0.042</td> <td>  -12.003</td> <td> 0.000</td> <td>   -0.591</td> <td>   -0.425</td>\n",
       "</tr>\n",
       "<tr>\n",
       "  <th>ma.L1</th>  <td>    1.2854</td> <td>    0.086</td> <td>   14.867</td> <td> 0.000</td> <td>    1.116</td> <td>    1.455</td>\n",
       "</tr>\n",
       "<tr>\n",
       "  <th>ma.L2</th>  <td>    1.0554</td> <td>    0.123</td> <td>    8.600</td> <td> 0.000</td> <td>    0.815</td> <td>    1.296</td>\n",
       "</tr>\n",
       "<tr>\n",
       "  <th>ma.L3</th>  <td>    0.4069</td> <td>    0.122</td> <td>    3.333</td> <td> 0.001</td> <td>    0.168</td> <td>    0.646</td>\n",
       "</tr>\n",
       "<tr>\n",
       "  <th>sigma2</th> <td> 7977.5712</td> <td>  437.381</td> <td>   18.239</td> <td> 0.000</td> <td> 7120.321</td> <td> 8834.822</td>\n",
       "</tr>\n",
       "</table>\n",
       "<table class=\"simpletable\">\n",
       "<tr>\n",
       "  <th>Ljung-Box (L1) (Q):</th>     <td>0.02</td>  <th>  Jarque-Bera (JB):  </th> <td>1789.29</td>\n",
       "</tr>\n",
       "<tr>\n",
       "  <th>Prob(Q):</th>                <td>0.89</td>  <th>  Prob(JB):          </th>  <td>0.00</td>  \n",
       "</tr>\n",
       "<tr>\n",
       "  <th>Heteroskedasticity (H):</th> <td>19.45</td> <th>  Skew:              </th>  <td>2.10</td>  \n",
       "</tr>\n",
       "<tr>\n",
       "  <th>Prob(H) (two-sided):</th>    <td>0.00</td>  <th>  Kurtosis:          </th>  <td>16.49</td> \n",
       "</tr>\n",
       "</table><br/><br/>Warnings:<br/>[1] Covariance matrix calculated using the outer product of gradients (complex-step)."
      ],
      "text/plain": [
       "<class 'statsmodels.iolib.summary.Summary'>\n",
       "\"\"\"\n",
       "                               SARIMAX Results                                \n",
       "==============================================================================\n",
       "Dep. Variable:                  valor   No. Observations:                  216\n",
       "Model:                 ARIMA(4, 1, 3)   Log Likelihood               -1271.589\n",
       "Date:                Sun, 23 Jun 2024   AIC                           2559.179\n",
       "Time:                        20:03:27   BIC                           2586.144\n",
       "Sample:                             0   HQIC                          2570.074\n",
       "                                - 216                                         \n",
       "Covariance Type:                  opg                                         \n",
       "==============================================================================\n",
       "                 coef    std err          z      P>|z|      [0.025      0.975]\n",
       "------------------------------------------------------------------------------\n",
       "ar.L1         -1.3596      0.073    -18.499      0.000      -1.504      -1.216\n",
       "ar.L2         -1.4133      0.110    -12.866      0.000      -1.629      -1.198\n",
       "ar.L3         -0.9801      0.097    -10.062      0.000      -1.171      -0.789\n",
       "ar.L4         -0.5078      0.042    -12.003      0.000      -0.591      -0.425\n",
       "ma.L1          1.2854      0.086     14.867      0.000       1.116       1.455\n",
       "ma.L2          1.0554      0.123      8.600      0.000       0.815       1.296\n",
       "ma.L3          0.4069      0.122      3.333      0.001       0.168       0.646\n",
       "sigma2      7977.5712    437.381     18.239      0.000    7120.321    8834.822\n",
       "===================================================================================\n",
       "Ljung-Box (L1) (Q):                   0.02   Jarque-Bera (JB):              1789.29\n",
       "Prob(Q):                              0.89   Prob(JB):                         0.00\n",
       "Heteroskedasticity (H):              19.45   Skew:                             2.10\n",
       "Prob(H) (two-sided):                  0.00   Kurtosis:                        16.49\n",
       "===================================================================================\n",
       "\n",
       "Warnings:\n",
       "[1] Covariance matrix calculated using the outer product of gradients (complex-step).\n",
       "\"\"\""
      ]
     },
     "execution_count": 11,
     "metadata": {},
     "output_type": "execute_result"
    }
   ],
   "source": [
    "# Ajustar un modelo ARIMA(4,1,3) a la serie temporal, usando los parámetros sugeridos por los gráficos ACF y PACF\n",
    "model_vf = ARIMA(df_vcm['valor'].dropna(), order=(4, 1, 3))\n",
    "model_fit_vf = model_vf.fit()\n",
    "\n",
    "# Mostrar el resumen del modelo ajustado\n",
    "model_fit_vf.summary()"
   ]
  },
  {
   "cell_type": "markdown",
   "metadata": {},
   "source": [
    "- **Coeficientes:** Todos los términos AR y MA son significativos (p < 0.05), indicando que estos términos son relevantes para el modelo.\n",
    "\n",
    "- **AIC/BIC:** Los valores de AIC (2559.179) y BIC (2586.144) son menores comparados con el modelo ARIMA(1, 0, 1), sugiriendo un mejor ajuste del modelo.\n",
    "\n",
    "\n",
    "Comparando los dos modelos ajustados, el modelo SARIMAX(4, 1, 3) presenta un mejor ajuste en términos de AIC y BIC, y todos sus coeficientes son significativos. \n",
    "\n",
    "Este análisis refuerza la elección del modelo SARIMAX(4, 1, 3) como el más adecuado para la serie temporal del precio de bolsa mensual, proporcionando una base sólida para las predicciones y análisis futuros en la metodología de Box-Jenkins."
   ]
  },
  {
   "cell_type": "markdown",
   "metadata": {},
   "source": [
    "### 5.3.5 Evaluación del modelo\n",
    "\n",
    "- **Prueba de Ljung-Box:** La prueba de Ljung-Box evalúa si hay autocorrelación significativa en los residuos de un modelo ARIMA. Los resultados que has obtenido son los siguientes:"
   ]
  },
  {
   "cell_type": "code",
   "execution_count": 12,
   "metadata": {},
   "outputs": [
    {
     "name": "stdout",
     "output_type": "stream",
     "text": [
      "Prueba de Ljung-Box:\n",
      "      lb_stat  lb_pvalue\n",
      "10   6.751698   0.748660\n",
      "20  18.629080   0.546040\n",
      "30  22.686147   0.827939\n"
     ]
    }
   ],
   "source": [
    "from statsmodels.stats.diagnostic import acorr_ljungbox\n",
    "\n",
    "# Obtener los residuos del modelo ajustado\n",
    "residuals = model_fit_vf.resid\n",
    "\n",
    "# Prueba de Ljung-Box para autocorrelación en los residuos\n",
    "ljung_box_result = acorr_ljungbox(residuals.dropna(), lags=[10, 20, 30], return_df=True)\n",
    "print('Prueba de Ljung-Box:')\n",
    "print(ljung_box_result)"
   ]
  },
  {
   "cell_type": "markdown",
   "metadata": {},
   "source": [
    "Los altos p-valores indican que no se rechaza la hipótesis nula de que no hay autocorrelación en los residuos a esos rezagos. En otras palabras, no hay evidencia significativa de autocorrelación en los residuos a los rezagos 10, 20, y 30. Esto sugiere que los residuos se comportan como ruido blanco, lo que es deseable y sugiere que el modelo ARIMA ajustado es adecuado.\n",
    "\n",
    "- **Estadístico de Durbin-Watson:** El estadístico de Durbin-Watson se utiliza para detectar la autocorrelación de primer orden en los residuos de un modelo de regresión:"
   ]
  },
  {
   "cell_type": "code",
   "execution_count": 13,
   "metadata": {},
   "outputs": [
    {
     "name": "stdout",
     "output_type": "stream",
     "text": [
      "Estadístico de Durbin-Watson: 1.967331812982635\n"
     ]
    }
   ],
   "source": [
    "from statsmodels.stats.stattools import durbin_watson\n",
    "\n",
    "# Prueba de Durbin-Watson para autocorrelación en los residuos\n",
    "dw_stat = durbin_watson(residuals)\n",
    "print(f'Estadístico de Durbin-Watson: {dw_stat}')"
   ]
  },
  {
   "cell_type": "markdown",
   "metadata": {},
   "source": [
    "El valor del estadístico de Durbin-Watson varía entre 0 y 4:\n",
    "\n",
    "- Un valor alrededor de 2 sugiere que no hay autocorrelación de primer orden en los residuos.\n",
    "- Un valor cercano a 0 sugiere autocorrelación positiva.\n",
    "- Un valor cercano a 4 sugiere autocorrelación negativa.\n",
    "\n",
    "En este caso, el estadístico de Durbin-Watson es aproximadamente 2, lo que indica que no hay autocorrelación significativa de primer orden en los residuos. Esto es consistente con los resultados de la prueba de Ljung-Box y sugiere que los residuos son efectivamente ruido blanco.\n",
    "\n",
    "Los resultados de la prueba de Ljung-Box y el estadístico de Durbin-Watson sugieren que los residuos del modelo ARIMA(4,1,3) no presentan autocorrelación significativa y se comportan como ruido blanco."
   ]
  },
  {
   "cell_type": "markdown",
   "metadata": {},
   "source": [
    "### 5.3.6 Prónostico ARIMA\n",
    "\n",
    "Luego de ajustar el modelo SARIMAX(4, 1, 3) como el más adecuado para la serie temporal del precio de bolsa mensual, se realizaron predicciones para los próximos 12 meses. Este pronóstico es crucial para la planificación y toma de decisiones estratégicas en el mercado de energía.\n",
    "\n",
    "Para generar las predicciones y visualizar los resultados, se utilizaron los siguientes bloques de código:"
   ]
  },
  {
   "cell_type": "code",
   "execution_count": 14,
   "metadata": {},
   "outputs": [
    {
     "data": {
      "text/html": [
       "<div>\n",
       "<style scoped>\n",
       "    .dataframe tbody tr th:only-of-type {\n",
       "        vertical-align: middle;\n",
       "    }\n",
       "\n",
       "    .dataframe tbody tr th {\n",
       "        vertical-align: top;\n",
       "    }\n",
       "\n",
       "    .dataframe thead th {\n",
       "        text-align: right;\n",
       "    }\n",
       "</style>\n",
       "<table border=\"1\" class=\"dataframe\">\n",
       "  <thead>\n",
       "    <tr style=\"text-align: right;\">\n",
       "      <th></th>\n",
       "      <th>Predicted</th>\n",
       "      <th>Lower CI</th>\n",
       "      <th>Upper CI</th>\n",
       "    </tr>\n",
       "  </thead>\n",
       "  <tbody>\n",
       "    <tr>\n",
       "      <th>216</th>\n",
       "      <td>798.637248</td>\n",
       "      <td>623.578654</td>\n",
       "      <td>973.695841</td>\n",
       "    </tr>\n",
       "    <tr>\n",
       "      <th>217</th>\n",
       "      <td>909.751931</td>\n",
       "      <td>671.188760</td>\n",
       "      <td>1148.315103</td>\n",
       "    </tr>\n",
       "    <tr>\n",
       "      <th>218</th>\n",
       "      <td>709.861294</td>\n",
       "      <td>444.123146</td>\n",
       "      <td>975.599442</td>\n",
       "    </tr>\n",
       "    <tr>\n",
       "      <th>219</th>\n",
       "      <td>605.610649</td>\n",
       "      <td>322.970212</td>\n",
       "      <td>888.251086</td>\n",
       "    </tr>\n",
       "    <tr>\n",
       "      <th>220</th>\n",
       "      <td>848.230405</td>\n",
       "      <td>544.214987</td>\n",
       "      <td>1152.245824</td>\n",
       "    </tr>\n",
       "    <tr>\n",
       "      <th>221</th>\n",
       "      <td>805.189202</td>\n",
       "      <td>456.522016</td>\n",
       "      <td>1153.856389</td>\n",
       "    </tr>\n",
       "    <tr>\n",
       "      <th>222</th>\n",
       "      <td>724.485901</td>\n",
       "      <td>358.304219</td>\n",
       "      <td>1090.667584</td>\n",
       "    </tr>\n",
       "    <tr>\n",
       "      <th>223</th>\n",
       "      <td>710.196044</td>\n",
       "      <td>329.526420</td>\n",
       "      <td>1090.865668</td>\n",
       "    </tr>\n",
       "    <tr>\n",
       "      <th>224</th>\n",
       "      <td>762.662978</td>\n",
       "      <td>359.652186</td>\n",
       "      <td>1165.673771</td>\n",
       "    </tr>\n",
       "    <tr>\n",
       "      <th>225</th>\n",
       "      <td>812.477149</td>\n",
       "      <td>388.151533</td>\n",
       "      <td>1236.802764</td>\n",
       "    </tr>\n",
       "    <tr>\n",
       "      <th>226</th>\n",
       "      <td>725.584689</td>\n",
       "      <td>281.868066</td>\n",
       "      <td>1169.301312</td>\n",
       "    </tr>\n",
       "    <tr>\n",
       "      <th>227</th>\n",
       "      <td>729.154271</td>\n",
       "      <td>272.129741</td>\n",
       "      <td>1186.178802</td>\n",
       "    </tr>\n",
       "  </tbody>\n",
       "</table>\n",
       "</div>"
      ],
      "text/plain": [
       "      Predicted    Lower CI     Upper CI\n",
       "216  798.637248  623.578654   973.695841\n",
       "217  909.751931  671.188760  1148.315103\n",
       "218  709.861294  444.123146   975.599442\n",
       "219  605.610649  322.970212   888.251086\n",
       "220  848.230405  544.214987  1152.245824\n",
       "221  805.189202  456.522016  1153.856389\n",
       "222  724.485901  358.304219  1090.667584\n",
       "223  710.196044  329.526420  1090.865668\n",
       "224  762.662978  359.652186  1165.673771\n",
       "225  812.477149  388.151533  1236.802764\n",
       "226  725.584689  281.868066  1169.301312\n",
       "227  729.154271  272.129741  1186.178802"
      ]
     },
     "execution_count": 14,
     "metadata": {},
     "output_type": "execute_result"
    }
   ],
   "source": [
    "# Hacer predicciones con el modelo ARIMA ajustado para los próximos 12 períodos\n",
    "forecast_12 = model_fit_vf.get_forecast(steps=12)\n",
    "forecast_conf_int_12 = forecast_12.conf_int()\n",
    "\n",
    "# Crear un DataFrame para visualizar las predicciones y los intervalos de confianza para 24 meses\n",
    "forecast_df_12 = pd.DataFrame({\n",
    "    'Predicted': forecast_12.predicted_mean,\n",
    "    'Lower CI': forecast_conf_int_12.iloc[:, 0],\n",
    "    'Upper CI': forecast_conf_int_12.iloc[:, 1]\n",
    "})\n",
    "\n",
    "forecast_df_12"
   ]
  },
  {
   "cell_type": "code",
   "execution_count": 15,
   "metadata": {},
   "outputs": [
    {
     "data": {
      "image/png": "[encoded data removed]",
      "text/plain": [
       "<Figure size 1008x504 with 1 Axes>"
      ]
     },
     "metadata": {
      "needs_background": "light"
     },
     "output_type": "display_data"
    }
   ],
   "source": [
    "# Generar fechas de predicción para 24 meses\n",
    "prediction_dates_12 = pd.date_range(start=df_vcm['fechaoperacion'].iloc[-1] + pd.DateOffset(months=1), periods=12, freq='M')\n",
    "\n",
    "# Graficar la serie original y las predicciones para 24 meses\n",
    "plt.figure(figsize=(14, 7))\n",
    "plt.plot(df_vcm['fechaoperacion'], df_vcm['valor'], label='Datos originales', marker='o')\n",
    "plt.plot(prediction_dates_12, forecast_12.predicted_mean, label='Predicciones 12 meses', marker='o', linestyle='--')\n",
    "plt.title('Predicciones de Serie de Tiempo con ARIMA(4,1,3) para 12 Meses')\n",
    "plt.xlabel('Fecha')\n",
    "plt.ylabel('$/kWh')\n",
    "plt.legend()\n",
    "plt.grid(True)\n",
    "plt.show()"
   ]
  },
  {
   "cell_type": "code",
   "execution_count": 19,
   "metadata": {},
   "outputs": [
    {
     "data": {
      "image/png": "[encoded data removed]",
      "text/plain": [
       "<Figure size 1008x504 with 1 Axes>"
      ]
     },
     "metadata": {
      "needs_background": "light"
     },
     "output_type": "display_data"
    }
   ],
   "source": [
    "# Graficar la serie original y las predicciones para 24 meses\n",
    "plt.figure(figsize=(14, 7))\n",
    "plt.plot(df_vcm['fechaoperacion'], df_vcm['valor'], label='Datos originales')\n",
    "plt.plot(prediction_dates_12, forecast_12.predicted_mean, label='Predicción ARIMA')\n",
    "plt.title('Pronóstico de precio de bolsa - Modelo ARIMA')\n",
    "plt.xlabel('Fecha')\n",
    "plt.ylabel('$/kWh')\n",
    "plt.legend()\n",
    "plt.show()"
   ]
  },
  {
   "cell_type": "markdown",
   "metadata": {},
   "source": [
    "- La gráfica muestra la serie temporal original y las predicciones para los próximos 12 meses.\n",
    "- Las predicciones se visualizan con una línea de puntos, y los intervalos de confianza están representados por una sombra alrededor de las predicciones.\n",
    "- Esto proporciona una representación visual clara de la tendencia futura esperada del precio de bolsa mensual y la incertidumbre asociada a estas predicciones.\n",
    "\n",
    "El modelo SARIMAX(4, 1, 3) ha proporcionado un pronóstico robusto para los próximos 12 meses del precio de bolsa de energía. Las predicciones y sus intervalos de confianza permiten una evaluación detallada de las posibles variaciones futuras, proporcionando información valiosa para la planificación y toma de decisiones estratégicas en el mercado de energía."
   ]
  }
 ],
 "metadata": {
  "kernelspec": {
   "display_name": "Python 3",
   "language": "python",
   "name": "python3"
  },
  "language_info": {
   "codemirror_mode": {
    "name": "ipython",
    "version": 3
   },
   "file_extension": ".py",
   "mimetype": "text/x-python",
   "name": "python",
   "nbconvert_exporter": "python",
   "pygments_lexer": "ipython3",
   "version": "3.6.8"
  }
 },
 "nbformat": 4,
 "nbformat_minor": 2
}
